{
  "cells": [
    {
      "cell_type": "markdown",
      "metadata": {
        "id": "view-in-github",
        "colab_type": "text"
      },
      "source": [
        "<a href=\"https://colab.research.google.com/github/PauloRoge/calc_complexos/blob/main/calc_complexos.ipynb\" target=\"_parent\"><img src=\"https://colab.research.google.com/assets/colab-badge.svg\" alt=\"Open In Colab\"/></a>"
      ]
    },
    {
      "cell_type": "markdown",
      "metadata": {
        "id": "SpWHDbpo9H4C"
      },
      "source": [
        "Resolução de sistemas lineares complexos com até 3 equações.\n",
        "\n",
        "\n",
        "*   Análise de circuitos CA: encotrar correntes nas malhas de um circuito acoplado\n",
        "\n"
      ]
    },
    {
      "cell_type": "code",
      "execution_count": null,
      "metadata": {
        "id": "7Q-XuCA87ELH"
      },
      "outputs": [],
      "source": [
        "#Resolve sistemas de até 3 equações.\n",
        "#OBS: formato (a+bj) sempre. utilizar \".\" para float.\n",
        "import numpy as np\n",
        "\n",
        "def solve_linear_system(coefficients, constants):\n",
        "    # Converte as listas em arrays numpy\n",
        "    A = np.array(coefficients, dtype=np.complex128)\n",
        "    B = np.array(constants, dtype=np.complex128)\n",
        "\n",
        "    try:\n",
        "        # Resolve o sistema linear usando np.linalg.solve\n",
        "        solution = np.linalg.solve(A, B)\n",
        "        return solution\n",
        "    except np.linalg.LinAlgError as e:\n",
        "        return str(e)\n",
        "\n",
        "def main():\n",
        "    print(\"Calculadora de Sistemeas Lineares com Números Complexos\")\n",
        "    n = int(input(\"Digite o número de equações (2 ou 3): \"))\n",
        "\n",
        "    if n not in [2, 3]:\n",
        "        print(\"Apenas sistemas de 2 ou 3 equações são suportados.\")\n",
        "        return\n",
        "\n",
        "    coefficients = []\n",
        "    for i in range(n):\n",
        "        row = []\n",
        "        for j in range(n):\n",
        "            coef = complex(input(f\"Digite o coeficiente A[{i+1}][{j+1}] (em formato a+bj): \"))\n",
        "            row.append(coef)\n",
        "        coefficients.append(row)\n",
        "\n",
        "    constants = []\n",
        "    for i in range(n):\n",
        "        const = complex(input(f\"Digite a constante B[{i+1}] (em formato a+bj): \"))\n",
        "        constants.append(const)\n",
        "\n",
        "    solution = solve_linear_system(coefficients, constants)\n",
        "\n",
        "    if isinstance(solution, np.ndarray):\n",
        "        print(\"\\nA solução do sistema é:\")\n",
        "        for i in range(n):\n",
        "            print(f\"x[{i+1}] = {solution[i]}\")\n",
        "    else:\n",
        "        print(\"\\nErro ao resolver o sistema:\", solution)\n",
        "\n",
        "if __name__ == \"__main__\":\n",
        "    main()"
      ]
    }
  ],
  "metadata": {
    "colab": {
      "provenance": [],
      "authorship_tag": "ABX9TyOEkDFkgZ4+ZUYkq0uTe/NV",
      "include_colab_link": true
    },
    "kernelspec": {
      "display_name": "Python 3",
      "name": "python3"
    },
    "language_info": {
      "name": "python"
    }
  },
  "nbformat": 4,
  "nbformat_minor": 0
}